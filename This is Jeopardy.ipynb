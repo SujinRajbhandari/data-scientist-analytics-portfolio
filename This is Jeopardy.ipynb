{
 "cells": [
  {
   "cell_type": "markdown",
   "metadata": {},
   "source": [
    "### Portfolio Project: Exploring the Jeopardy Dataset with Python"
   ]
  },
  {
   "cell_type": "markdown",
   "metadata": {},
   "source": [
    "# This is Jeopardy!"
   ]
  },
  {
   "cell_type": "markdown",
   "metadata": {},
   "source": [
    "#### Overview"
   ]
  },
  {
   "cell_type": "markdown",
   "metadata": {},
   "source": [
    "This project is slightly different than others you have encountered thus far. Instead of a step-by-step tutorial, this project contains a series of open-ended requirements which describe the project you'll be building. There are many possible ways to correctly fulfill all of these requirements, and you should expect to use the internet, Codecademy, and/or other resources when you encounter a problem that you cannot easily solve."
   ]
  },
  {
   "cell_type": "markdown",
   "metadata": {},
   "source": [
    "#### Project Goals"
   ]
  },
  {
   "cell_type": "markdown",
   "metadata": {},
   "source": [
    "You will work to write several functions that investigate a dataset of _Jeopardy!_ questions and answers. Filter the dataset for topics that you're interested in, compute the average difficulty of those questions, and train to become the next Jeopardy champion! To explore the rich Jeopardy question dataset and uncover patterns in language, category distribution, and gameplay structure over time. I also aimed to build a simple interactive quiz system using Python to engage with the data dynamically."
   ]
  },
  {
   "cell_type": "markdown",
   "metadata": {},
   "source": [
    "## Prerequisites"
   ]
  },
  {
   "cell_type": "markdown",
   "metadata": {},
   "source": [
    "In order to complete this project, I have completed the Pandas lessons in the <a href=\"https://www.codecademy.com/learn/paths/analyze-data-with-python\">Analyze Data with Python Skill Path</a>. You can also find those lessons in the <a href=\"https://www.codecademy.com/learn/data-processing-pandas\">Data Analysis with Pandas course</a> or the <a href=\"https://www.codecademy.com/learn/paths/data-science/\">Data Scientist Career Path</a>.\n",
    "\n",
    "Finally, the <a href=\"https://www.codecademy.com/learn/practical-data-cleaning\">Practical Data Cleaning</a> course was also helpful."
   ]
  },
  {
   "cell_type": "markdown",
   "metadata": {},
   "source": [
    "## Project Requirements"
   ]
  },
  {
   "cell_type": "markdown",
   "metadata": {},
   "source": [
    "1. I was provided with a csv file containing data about the game show _Jeopardy!_ in a file named `jeopardy.csv`. I loaded the data into a DataFrame and investigated its contents.\n",
    "\n",
    "   Note that in order to make this project as \"real-world\" as possible, the data hadn't been modified the data at all - it was given it to me exactly how they found it. As a result, this data isn't as \"clean\" as the datasets you normally find on Codecademy. More specifically, there's something odd about the column names. After I figured out the problem with the column names, I wanted to rename them to make my life easier for the rest of the project.\n",
    "   \n",
    "I used a cleaned version of the Jeopardy dataset containing columns like `question`, `answer`, `category`, `round`, and `air date`. Key preprocessing steps included:\n",
    "\n",
    "- Converting `air date` to datetime format (`air_date_dt`)\n",
    "- Extracting the year (`year`) for temporal analysis\n",
    "- Lowercasing questions for keyword matching (`question_lower`)\n"
   ]
  },
  {
   "cell_type": "code",
   "execution_count": 1,
   "metadata": {},
   "outputs": [
    {
     "name": "stdout",
     "output_type": "stream",
     "text": [
      "   Show Number    Air Date      Round                         Category  Value  \\\n",
      "0         4680  2004-12-31  Jeopardy!                          HISTORY   $200   \n",
      "1         4680  2004-12-31  Jeopardy!  ESPN's TOP 10 ALL-TIME ATHLETES   $200   \n",
      "2         4680  2004-12-31  Jeopardy!      EVERYBODY TALKS ABOUT IT...   $200   \n",
      "3         4680  2004-12-31  Jeopardy!                 THE COMPANY LINE   $200   \n",
      "4         4680  2004-12-31  Jeopardy!              EPITAPHS & TRIBUTES   $200   \n",
      "\n",
      "                                                                                                      Question  \\\n",
      "0             For the last 8 years of his life, Galileo was under house arrest for espousing this man's theory   \n",
      "1  No. 2: 1912 Olympian; football star at Carlisle Indian School; 6 MLB seasons with the Reds, Giants & Braves   \n",
      "2                     The city of Yuma in this state has a record average of 4,055 hours of sunshine each year   \n",
      "3                         In 1963, live on \"The Art Linkletter Show\", this company served its billionth burger   \n",
      "4     Signer of the Dec. of Indep., framer of the Constitution of Mass., second President of the United States   \n",
      "\n",
      "       Answer  \n",
      "0  Copernicus  \n",
      "1  Jim Thorpe  \n",
      "2     Arizona  \n",
      "3  McDonald's  \n",
      "4  John Adams  \n"
     ]
    }
   ],
   "source": [
    "import pandas as pd\n",
    "pd.set_option('display.max_colwidth', None)\n",
    "jeopardy = pd.read_csv('jeopardy.csv')\n",
    "print(jeopardy.head())\n",
    "jeopardy.columns = jeopardy.columns.str.strip()\n",
    "jeopardy.columns = jeopardy.columns.str.lower()\n",
    "jeopardy[\"question_lower\"] = jeopardy['question'].str.lower()\n"
   ]
  },
  {
   "cell_type": "markdown",
   "metadata": {},
   "source": [
    "2. Write a function that filters the dataset for questions that contains all of the words in a list of words. For example, when the list `[\"King\", \"England\"]` was passed to our function, the function returned a DataFrame of 49 rows. Every row had the strings `\"King\"` and `\"England\"` somewhere in its `\" Question\"`.\n",
    "\n",
    "   Test your function by printing out the column containing the question of each row of the dataset."
   ]
  },
  {
   "cell_type": "code",
   "execution_count": 47,
   "metadata": {},
   "outputs": [],
   "source": [
    "def find_words(word1, word2):\n",
    " matched_list = []\n",
    " for i in range(len(jeopardy)):\n",
    "     question = jeopardy['question_lower'][i]\n",
    "     question_words = question.split()\n",
    "     if word1.lower() in question_words and word2.lower() in question_words:\n",
    "         matched_list.append(jeopardy.iloc[i])\n",
    " return pd.DataFrame(matched_list)\n",
    "          \n",
    "\n"
   ]
  },
  {
   "cell_type": "markdown",
   "metadata": {},
   "source": [
    "3. Test your original function with a few different sets of words to try to find some ways your function breaks. Edit your function so it is more robust.\n",
    "\n",
    "   For example, think about capitalization. We probably want to find questions that contain the word `\"King\"` or `\"king\"`.\n",
    "   \n",
    "   You may also want to check to make sure you don't find rows that contain substrings of your given words. For example, our function found a question that didn't contain the word `\"king\"`, however it did contain the word `\"viking\"` &mdash; it found the `\"king\"` inside `\"viking\"`. Note that this also comes with some drawbacks &mdash; you would no longer find questions that contained words like `\"England's\"`."
   ]
  },
  {
   "cell_type": "code",
   "execution_count": 53,
   "metadata": {},
   "outputs": [
    {
     "name": "stdout",
     "output_type": "stream",
     "text": [
      "1\n",
      "        show number    air date             round               category  \\\n",
      "6337           3517  1999-12-14  Double Jeopardy!                    Y1K   \n",
      "9191           3907  2001-09-04  Double Jeopardy!         WON THE BATTLE   \n",
      "13454          4726  2005-03-07         Jeopardy!  A NUMBER FROM 1 TO 10   \n",
      "14912          2832  1996-12-17         Jeopardy!          WORLD HISTORY   \n",
      "18076          3227  1998-09-22  Double Jeopardy!          WORLD HISTORY   \n",
      "...             ...         ...               ...                    ...   \n",
      "200369         2937  1997-05-13         Jeopardy!        BRITISH HISTORY   \n",
      "201168         3515  1999-12-10         Jeopardy!         BEFORE & AFTER   \n",
      "208742         4863  2005-11-02  Double Jeopardy!         BEFORE & AFTER   \n",
      "213870         5856  2010-02-15  Double Jeopardy!                 URANUS   \n",
      "216021         1881  1992-11-09  Double Jeopardy!         HISTORIC NAMES   \n",
      "\n",
      "         value  \\\n",
      "6337      $800   \n",
      "9191      $800   \n",
      "13454    $1000   \n",
      "14912     $100   \n",
      "18076    $1000   \n",
      "...        ...   \n",
      "200369    $200   \n",
      "201168    $500   \n",
      "208742  $3,000   \n",
      "213870   $1600   \n",
      "216021   $1000   \n",
      "\n",
      "                                                                                                               question  \\\n",
      "6337             In retaliation for Viking raids, this \"Unready\" king of England attacks Norse areas of the Isle of Man   \n",
      "9191                           This king of England beat the odds to trounce the French in the 1415 Battle of Agincourt   \n",
      "13454                                              It's the number that followed the last king of England named William   \n",
      "14912                 This country's King Louis IV was nicknamed \"Louis From Overseas\" because he was raised in England   \n",
      "18076                   In 1199 this crusader king of England was mortally wounded while besieging the castle of Chalus   \n",
      "...                                                                                                                 ...   \n",
      "200369  8th C. King Offa built a 170-mile north-south dike that still partly marks the border of England & this country   \n",
      "201168                                         Popular Saint-Exupery character waiting around to become king of England   \n",
      "208742                             Dutch-born king who ruled England jointly with Mary II & is a tasty New Zealand fish   \n",
      "213870                       In 1781 William Herschel discovered Uranus & initially named it after this king of England   \n",
      "216021                 His nickname was \"Bertie\", but he used this name & number when he became king of England in 1901   \n",
      "\n",
      "                            answer  \\\n",
      "6337                      Ethelred   \n",
      "9191                       Henry V   \n",
      "13454                            4   \n",
      "14912                       France   \n",
      "18076      Richard the Lionhearted   \n",
      "...                            ...   \n",
      "200369                       Wales   \n",
      "201168  The Little Prince of Wales   \n",
      "208742    William of Orange roughy   \n",
      "213870                  George III   \n",
      "216021                  Edward VII   \n",
      "\n",
      "                                                                                                         question_lower  \n",
      "6337             in retaliation for viking raids, this \"unready\" king of england attacks norse areas of the isle of man  \n",
      "9191                           this king of england beat the odds to trounce the french in the 1415 battle of agincourt  \n",
      "13454                                              it's the number that followed the last king of england named william  \n",
      "14912                 this country's king louis iv was nicknamed \"louis from overseas\" because he was raised in england  \n",
      "18076                   in 1199 this crusader king of england was mortally wounded while besieging the castle of chalus  \n",
      "...                                                                                                                 ...  \n",
      "200369  8th c. king offa built a 170-mile north-south dike that still partly marks the border of england & this country  \n",
      "201168                                         popular saint-exupery character waiting around to become king of england  \n",
      "208742                             dutch-born king who ruled england jointly with mary ii & is a tasty new zealand fish  \n",
      "213870                       in 1781 william herschel discovered uranus & initially named it after this king of england  \n",
      "216021                 his nickname was \"bertie\", but he used this name & number when he became king of england in 1901  \n",
      "\n",
      "[74 rows x 8 columns]\n"
     ]
    }
   ],
   "source": [
    "print(len(find_words(\"Power\",\"Hungry\")))\n",
    "print(king_england)"
   ]
  },
  {
   "cell_type": "markdown",
   "metadata": {},
   "source": [
    "4. We may want to eventually compute aggregate statistics, like `.mean()` on the `\" Value\"` column. But right now, the values in that column are strings. Convert the`\" Value\"` column to floats. If you'd like to, you can create a new column with float values.\n",
    "\n",
    "   While most of the values in the `\" Value\"` column represent a dollar amount as a string, note that some do not &mdash; these values will need to be handled differently!\n",
    "\n",
    "   Now that you can filter the dataset of question, use your new column that contains the float values of each question to find the \"difficulty\" of certain topics. For example, what is the average value of questions that contain the word `\"King\"`?\n",
    "   \n",
    "   Make sure to use the dataset that contains the float values as the dataset you use in your filtering function."
   ]
  },
  {
   "cell_type": "code",
   "execution_count": 78,
   "metadata": {},
   "outputs": [
    {
     "name": "stdout",
     "output_type": "stream",
     "text": [
      "841.0958904109589\n"
     ]
    }
   ],
   "source": [
    "jeopardy['value_float'] = jeopardy['value'].str.replace('$', '').str.replace(',', '')\n",
    "\n",
    "jeopardy['value_float'] = pd.to_numeric(jeopardy['value_float'], errors='coerce')\n",
    "king_england = find_words(\"king\",\"england\")\n",
    "\n",
    "print(king_england.value_float.mean())"
   ]
  },
  {
   "cell_type": "code",
   "execution_count": 79,
   "metadata": {},
   "outputs": [
    {
     "name": "stdout",
     "output_type": "stream",
     "text": [
      "Index(['show number', 'air date', 'round', 'category', 'value', 'question',\n",
      "       'answer', 'question_lower', 'value_float'],\n",
      "      dtype='object')\n"
     ]
    }
   ],
   "source": [
    "print(jeopardy.columns)"
   ]
  },
  {
   "cell_type": "markdown",
   "metadata": {},
   "source": [
    "5. Write a function that returns the count of unique answers to all of the questions in a dataset. For example, after filtering the entire dataset to only questions containing the word `\"King\"`, we could then find all of the unique answers to those questions. The answer \"Henry VIII\" appeared 55 times and was the most common answer."
   ]
  },
  {
   "cell_type": "code",
   "execution_count": 96,
   "metadata": {},
   "outputs": [
    {
     "name": "stdout",
     "output_type": "stream",
     "text": [
      "        show number    air date             round     category  value  \\\n",
      "60109          5483  2008-06-11         Jeopardy!   GEEK SQUAD  $1000   \n",
      "120072         3119  1998-03-05  Double Jeopardy!  ELECTRONICS   $200   \n",
      "\n",
      "                                                                                                                                                                                                                               question  \\\n",
      "60109   (<a href=\"http://www.j-archive.com/media/2008-06-11_J_30.jpg\" target=\"_blank\">A Geek indicates a computer port.</a>) Today it's easy connecting devices by using USB; older computers use 2 types of ports, parallel & this one   \n",
      "120072                                                                                                                                 This device allows a computer to connect to phone lines & access other computers on the internet   \n",
      "\n",
      "        answer  \\\n",
      "60109   serial   \n",
      "120072   Modem   \n",
      "\n",
      "                                                                                                                                                                                                                         question_lower  \\\n",
      "60109   (<a href=\"http://www.j-archive.com/media/2008-06-11_j_30.jpg\" target=\"_blank\">a geek indicates a computer port.</a>) today it's easy connecting devices by using usb; older computers use 2 types of ports, parallel & this one   \n",
      "120072                                                                                                                                 this device allows a computer to connect to phone lines & access other computers on the internet   \n",
      "\n",
      "        value_float  \n",
      "60109        1000.0  \n",
      "120072        200.0  \n"
     ]
    },
    {
     "data": {
      "text/plain": [
       "2"
      ]
     },
     "execution_count": 96,
     "metadata": {},
     "output_type": "execute_result"
    }
   ],
   "source": [
    "def find_unique(dataset):\n",
    "    return dataset['answer'].nunique()\n",
    "find_unique(king_england)\n",
    "giveup_power = find_words('computer','computers')\n",
    "print(giveup_power)\n",
    "giveup_power.value_float.mean()\n",
    "find_unique(giveup_power)"
   ]
  },
  {
   "cell_type": "markdown",
   "metadata": {},
   "source": [
    "6. Explore from here! This is an incredibly rich dataset, and there are so many interesting things to discover. There are a few columns that we haven't even started looking at yet. Here are some ideas on ways to continue working with this data:\n",
    "\n",
    " * Investigate the ways in which questions change over time by filtering by the date. How many questions from the 90s use the word `\"Computer\"` compared to questions from the 2000s?\n",
    " * Is there a connection between the round and the category? Are you more likely to find certain categories, like `\"Literature\"` in Single Jeopardy or Double Jeopardy?\n",
    " * Build a system to quiz yourself. Grab random questions, and use the <a href=\"https://docs.python.org/3/library/functions.html#input\">input</a> function to get a response from the user. Check to see if that response was right or wrong."
   ]
  },
  {
   "cell_type": "code",
   "execution_count": 160,
   "metadata": {},
   "outputs": [
    {
     "name": "stdout",
     "output_type": "stream",
     "text": [
      "int32\n",
      "['Jeopardy!' 'Double Jeopardy!' 'Final Jeopardy!' 'Tiebreaker']\n",
      "27995\n",
      "round\n",
      "Double Jeopardy!    194\n",
      "Final Jeopardy!       0\n",
      "Jeopardy!           155\n",
      "Tiebreaker            0\n",
      "Name: HISTORY, dtype: int64\n"
     ]
    }
   ],
   "source": [
    "# investigating how the questions changes over time\n",
    "jeopardy['air_date_dt'] = pd.to_datetime(jeopardy['air date'], errors = 'coerce')\n",
    "jeopardy['year'] = jeopardy.air_date_dt.dt.year\n",
    "print(jeopardy.year.dtype)\n",
    "\n",
    "def filter_by_year(dataset, year_start, keyword):\n",
    "    filtered_list = []\n",
    "    for i in range(len(dataset)):\n",
    "        question = dataset['question_lower'][i]\n",
    "        question_words = question.split()\n",
    "        if year_start == (dataset['year'][i]):\n",
    "            if keyword in question_words:\n",
    "                filtered_list.append(dataset.iloc[i])\n",
    "    return pd.DataFrame(filtered_list)\n",
    "\n",
    "#filter_by_year(jeopardy, 2012, 'football')\n",
    "\n",
    "\n",
    "# investigating connection between the round and category\n",
    "print(jeopardy['round'].unique())\n",
    "print(jeopardy['category'].nunique())\n",
    "\n",
    "round_category_count = jeopardy.groupby(['round', 'category']).size()\n",
    "\n",
    "round_category_pivot = round_category_count.unstack(fill_value = 0)\n",
    "\n",
    "history_counts = round_category_pivot.loc[(slice(None), \"HISTORY\")]\n",
    "print(literature_counts)\n",
    "\n"
   ]
  },
  {
   "cell_type": "code",
   "execution_count": 167,
   "metadata": {},
   "outputs": [
    {
     "name": "stdout",
     "output_type": "stream",
     "text": [
      "Category: NUTRITION\n",
      "Question: For proper colon health, it's been suggested that everyone get 20-35 grams per day of this, both soluble & insoluble forms\n"
     ]
    },
    {
     "name": "stdin",
     "output_type": "stream",
     "text": [
      "Your answer:  fiber\n"
     ]
    },
    {
     "name": "stdout",
     "output_type": "stream",
     "text": [
      "Your answer is correct!\n"
     ]
    }
   ],
   "source": [
    "# Building a system to quiz yourself\n",
    "question_row = jeopardy.sample(1).iloc[0]\n",
    "print(\"Category:\", question_row[\"category\"])\n",
    "print(\"Question:\", question_row[\"question\"])\n",
    "\n",
    "user_answer = input(\"Your answer: \").strip().lower()\n",
    "correct_answer = str(question_row[\"answer\"]).strip().lower()\n",
    "\n",
    "if user_answer == correct_answer:\n",
    "    print(\"Your answer is correct!\")\n",
    "else:\n",
    "    print(f\"Your answer is incorrect :(. The correct answer is: {question_row['answer']}\")"
   ]
  },
  {
   "cell_type": "code",
   "execution_count": null,
   "metadata": {},
   "outputs": [],
   "source": []
  }
 ],
 "metadata": {
  "kernelspec": {
   "display_name": "Python [conda env:base] *",
   "language": "python",
   "name": "conda-base-py"
  },
  "language_info": {
   "codemirror_mode": {
    "name": "ipython",
    "version": 3
   },
   "file_extension": ".py",
   "mimetype": "text/x-python",
   "name": "python",
   "nbconvert_exporter": "python",
   "pygments_lexer": "ipython3",
   "version": "3.13.5"
  }
 },
 "nbformat": 4,
 "nbformat_minor": 4
}
